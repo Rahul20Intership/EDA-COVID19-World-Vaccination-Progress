{
 "cells": [
  {
   "attachments": {},
   "cell_type": "markdown",
   "metadata": {},
   "source": [
    "![green-divider](https://user-images.githubusercontent.com/7065401/52071924-c003ad80-2562-11e9-8297-1c6595f8a7ff.png)<br>\n",
    "\n",
    "<h1><center> Exploratory Data Analysis of<br><br> COVID-19 World Vaccination Progress </center></h1><br>\n",
    "\n",
    "![green-divider](https://user-images.githubusercontent.com/7065401/52071924-c003ad80-2562-11e9-8297-1c6595f8a7ff.png)<br>\n",
    "# Welcome!\n",
    "### Introduction to the dataset:\n",
    "<font color=darkred><b> This dataset contains the information on COVID-19 vaccination details that were collected across different countries around the world. This dataset is an open source data and is taken from the most popular website, kaggle. Since it is an open source data, anyone like me can access it for analysis purposes. Some of the information that can be seen in the dataset are: </font>\n",
    "1. **Country**- this is the country for which the vaccination information is provided;\n",
    "2. **Country ISO Code** - ISO code for the country;\n",
    "3. **Date** - date for the data entry; for some of the dates we have only the daily vaccinations, for others, only the (cumulative) total;\n",
    "4. **Total number of vaccinations** - this is the absolute number of total immunizations in the country;\n",
    "5. **Total number of people vaccinated** - a person, depending on the immunization scheme, will receive one or more (typically 2) vaccines; at a certain moment, the number of vaccination might be larger than the number of people;\n",
    "6. **Total number of people fully vaccinated** - this is the number of people that received the entire set of immunization according to the immunization scheme (typically 2); at a certain moment in time, there might be a certain number of people that received one vaccine and another number (smaller) of people that received all vaccines in the scheme;\n",
    "7. **Daily vaccinations (raw)** - for a certain data entry, the number of vaccination for that date/country;\n",
    "8. **Daily vaccinations** - for a certain data entry, the number of vaccination for that date/country;\n",
    "9. **Total vaccinations per hundred** - ratio (in percent) between vaccination number and total population up to the date in the country;\n",
    "10. **Total number of people vaccinated per hundred** - ratio (in percent) between population immunized and total population up to the date in the country;\n",
    "11. **Total number of people fully vaccinated per hundred** - ratio (in percent) between population fully immunized and total population up to the date in the country;\n",
    "12. **Number of vaccinations per day** - number of daily vaccination for that day and country;\n",
    "13. **Daily vaccinations per million** - ratio (in ppm) between vaccination number and total population for the current date in the country;\n",
    "14. **Vaccines used in the country** - total number of vaccines used in the country (up to date);<br>\n",
    "**The Source of Data:** The data was collected from **`Kaggle`** website. Link: https://www.kaggle.com/gpreda/covid-world-vaccination-progress/\n",
    "\n"
   ]
  },
  {
   "cell_type": "markdown",
   "metadata": {},
   "source": [
    "### How to run the code\n",
    "\n",
    "This is an executable [*Jupyter notebook*](https://jupyter.org) hosted on [Jovian.ml](https://www.jovian.ml), a platform for sharing data science projects. You can run and experiment with the code in a couple of ways: *using free online resources* (recommended) or *on your own computer*.\n",
    "\n",
    "#### Option 1: Running using free online resources (1-click, recommended)\n",
    "\n",
    "The easiest way to start executing this notebook is to click the \"Run\" button at the top of this page, and select \"Run on Binder\". This will run the notebook on [mybinder.org](https://mybinder.org), a free online service for running Jupyter notebooks. You can also select \"Run on Colab\" or \"Run on Kaggle\".\n",
    "\n",
    "\n",
    "#### Option 2: Running on your computer locally\n",
    "\n",
    "1. Install Conda by [following these instructions](https://conda.io/projects/conda/en/latest/user-guide/install/index.html). Add Conda binaries to your system `PATH`, so you can use the `conda` command on your terminal.\n",
    "\n",
    "2. Create a Conda environment and install the required libraries by running these commands on the terminal:\n",
    "\n",
    "```\n",
    "conda create -n zerotopandas -y python=3.8 \n",
    "conda activate zerotopandas\n",
    "pip install jovian jupyter numpy pandas matplotlib seaborn opendatasets --upgrade\n",
    "```\n",
    "\n",
    "3. Press the \"Clone\" button above to copy the command for downloading the notebook, and run it on the terminal. This will create a new directory and download the notebook. The command will look something like this:\n",
    "\n",
    "```\n",
    "jovian clone notebook-owner/notebook-id\n",
    "```\n",
    "\n",
    "\n",
    "\n",
    "4. Enter the newly created directory using `cd directory-name` and start the Jupyter notebook.\n",
    "\n",
    "```\n",
    "jupyter notebook\n",
    "```\n",
    "\n",
    "You can now access Jupyter's web interface by clicking the link that shows up on the terminal or by visiting http://localhost:8888 on your browser. Click on the notebook file (it has a `.ipynb` extension) to open it.\n"
   ]
  },
  {
   "attachments": {},
   "cell_type": "markdown",
   "metadata": {},
   "source": [
    "<br>\n",
    "<h2><center> Step: 1 <br><br> Downloading and Extracting the Dataset </center></h2>\n",
    "\n",
    "We start the analysis process by first downloading the dataset from Kaggle. I have saved the dataset to my working dicterory mannually and had extracted the dataset to the jupyter notebook by using pandas library function"
   ]
  },
  {
   "cell_type": "code",
   "execution_count": 1,
   "metadata": {},
   "outputs": [],
   "source": [
    "!pip install jovian opendatasets --upgrade --quiet"
   ]
  },
  {
   "cell_type": "code",
   "execution_count": 5,
   "metadata": {},
   "outputs": [
    {
     "data": {
      "text/html": [
       "<div>\n",
       "<style scoped>\n",
       "    .dataframe tbody tr th:only-of-type {\n",
       "        vertical-align: middle;\n",
       "    }\n",
       "\n",
       "    .dataframe tbody tr th {\n",
       "        vertical-align: top;\n",
       "    }\n",
       "\n",
       "    .dataframe thead th {\n",
       "        text-align: right;\n",
       "    }\n",
       "</style>\n",
       "<table border=\"1\" class=\"dataframe\">\n",
       "  <thead>\n",
       "    <tr style=\"text-align: right;\">\n",
       "      <th></th>\n",
       "      <th>country</th>\n",
       "      <th>iso_code</th>\n",
       "      <th>date</th>\n",
       "      <th>total_vaccinations</th>\n",
       "      <th>people_vaccinated</th>\n",
       "      <th>people_fully_vaccinated</th>\n",
       "      <th>daily_vaccinations_raw</th>\n",
       "      <th>daily_vaccinations</th>\n",
       "      <th>total_vaccinations_per_hundred</th>\n",
       "      <th>people_vaccinated_per_hundred</th>\n",
       "      <th>people_fully_vaccinated_per_hundred</th>\n",
       "      <th>daily_vaccinations_per_million</th>\n",
       "      <th>vaccines</th>\n",
       "      <th>source_name</th>\n",
       "      <th>source_website</th>\n",
       "    </tr>\n",
       "  </thead>\n",
       "  <tbody>\n",
       "    <tr>\n",
       "      <th>0</th>\n",
       "      <td>Afghanistan</td>\n",
       "      <td>AFG</td>\n",
       "      <td>2021-02-22</td>\n",
       "      <td>0.0</td>\n",
       "      <td>0.0</td>\n",
       "      <td>NaN</td>\n",
       "      <td>NaN</td>\n",
       "      <td>NaN</td>\n",
       "      <td>0.00</td>\n",
       "      <td>0.00</td>\n",
       "      <td>NaN</td>\n",
       "      <td>NaN</td>\n",
       "      <td>Oxford/AstraZeneca, Pfizer/BioNTech, Sinopharm...</td>\n",
       "      <td>World Health Organization</td>\n",
       "      <td>https://covid19.who.int/</td>\n",
       "    </tr>\n",
       "    <tr>\n",
       "      <th>1</th>\n",
       "      <td>Afghanistan</td>\n",
       "      <td>AFG</td>\n",
       "      <td>2021-02-23</td>\n",
       "      <td>NaN</td>\n",
       "      <td>NaN</td>\n",
       "      <td>NaN</td>\n",
       "      <td>NaN</td>\n",
       "      <td>1367.0</td>\n",
       "      <td>NaN</td>\n",
       "      <td>NaN</td>\n",
       "      <td>NaN</td>\n",
       "      <td>35.0</td>\n",
       "      <td>Oxford/AstraZeneca, Pfizer/BioNTech, Sinopharm...</td>\n",
       "      <td>World Health Organization</td>\n",
       "      <td>https://covid19.who.int/</td>\n",
       "    </tr>\n",
       "    <tr>\n",
       "      <th>2</th>\n",
       "      <td>Afghanistan</td>\n",
       "      <td>AFG</td>\n",
       "      <td>2021-02-24</td>\n",
       "      <td>NaN</td>\n",
       "      <td>NaN</td>\n",
       "      <td>NaN</td>\n",
       "      <td>NaN</td>\n",
       "      <td>1367.0</td>\n",
       "      <td>NaN</td>\n",
       "      <td>NaN</td>\n",
       "      <td>NaN</td>\n",
       "      <td>35.0</td>\n",
       "      <td>Oxford/AstraZeneca, Pfizer/BioNTech, Sinopharm...</td>\n",
       "      <td>World Health Organization</td>\n",
       "      <td>https://covid19.who.int/</td>\n",
       "    </tr>\n",
       "    <tr>\n",
       "      <th>3</th>\n",
       "      <td>Afghanistan</td>\n",
       "      <td>AFG</td>\n",
       "      <td>2021-02-25</td>\n",
       "      <td>NaN</td>\n",
       "      <td>NaN</td>\n",
       "      <td>NaN</td>\n",
       "      <td>NaN</td>\n",
       "      <td>1367.0</td>\n",
       "      <td>NaN</td>\n",
       "      <td>NaN</td>\n",
       "      <td>NaN</td>\n",
       "      <td>35.0</td>\n",
       "      <td>Oxford/AstraZeneca, Pfizer/BioNTech, Sinopharm...</td>\n",
       "      <td>World Health Organization</td>\n",
       "      <td>https://covid19.who.int/</td>\n",
       "    </tr>\n",
       "    <tr>\n",
       "      <th>4</th>\n",
       "      <td>Afghanistan</td>\n",
       "      <td>AFG</td>\n",
       "      <td>2021-02-26</td>\n",
       "      <td>NaN</td>\n",
       "      <td>NaN</td>\n",
       "      <td>NaN</td>\n",
       "      <td>NaN</td>\n",
       "      <td>1367.0</td>\n",
       "      <td>NaN</td>\n",
       "      <td>NaN</td>\n",
       "      <td>NaN</td>\n",
       "      <td>35.0</td>\n",
       "      <td>Oxford/AstraZeneca, Pfizer/BioNTech, Sinopharm...</td>\n",
       "      <td>World Health Organization</td>\n",
       "      <td>https://covid19.who.int/</td>\n",
       "    </tr>\n",
       "    <tr>\n",
       "      <th>...</th>\n",
       "      <td>...</td>\n",
       "      <td>...</td>\n",
       "      <td>...</td>\n",
       "      <td>...</td>\n",
       "      <td>...</td>\n",
       "      <td>...</td>\n",
       "      <td>...</td>\n",
       "      <td>...</td>\n",
       "      <td>...</td>\n",
       "      <td>...</td>\n",
       "      <td>...</td>\n",
       "      <td>...</td>\n",
       "      <td>...</td>\n",
       "      <td>...</td>\n",
       "      <td>...</td>\n",
       "    </tr>\n",
       "    <tr>\n",
       "      <th>17602</th>\n",
       "      <td>Zimbabwe</td>\n",
       "      <td>ZWE</td>\n",
       "      <td>2021-05-08</td>\n",
       "      <td>657838.0</td>\n",
       "      <td>509274.0</td>\n",
       "      <td>148564.0</td>\n",
       "      <td>17076.0</td>\n",
       "      <td>19648.0</td>\n",
       "      <td>4.43</td>\n",
       "      <td>3.43</td>\n",
       "      <td>1.00</td>\n",
       "      <td>1322.0</td>\n",
       "      <td>Sinopharm/Beijing</td>\n",
       "      <td>Ministry of Health</td>\n",
       "      <td>https://twitter.com/MoHCCZim/status/1392575941...</td>\n",
       "    </tr>\n",
       "    <tr>\n",
       "      <th>17603</th>\n",
       "      <td>Zimbabwe</td>\n",
       "      <td>ZWE</td>\n",
       "      <td>2021-05-09</td>\n",
       "      <td>684243.0</td>\n",
       "      <td>526066.0</td>\n",
       "      <td>158177.0</td>\n",
       "      <td>26405.0</td>\n",
       "      <td>22863.0</td>\n",
       "      <td>4.60</td>\n",
       "      <td>3.54</td>\n",
       "      <td>1.06</td>\n",
       "      <td>1538.0</td>\n",
       "      <td>Sinopharm/Beijing</td>\n",
       "      <td>Ministry of Health</td>\n",
       "      <td>https://twitter.com/MoHCCZim/status/1392575941...</td>\n",
       "    </tr>\n",
       "    <tr>\n",
       "      <th>17604</th>\n",
       "      <td>Zimbabwe</td>\n",
       "      <td>ZWE</td>\n",
       "      <td>2021-05-10</td>\n",
       "      <td>690653.0</td>\n",
       "      <td>529360.0</td>\n",
       "      <td>161293.0</td>\n",
       "      <td>6410.0</td>\n",
       "      <td>21877.0</td>\n",
       "      <td>4.65</td>\n",
       "      <td>3.56</td>\n",
       "      <td>1.09</td>\n",
       "      <td>1472.0</td>\n",
       "      <td>Sinopharm/Beijing</td>\n",
       "      <td>Ministry of Health</td>\n",
       "      <td>https://twitter.com/MoHCCZim/status/1392575941...</td>\n",
       "    </tr>\n",
       "    <tr>\n",
       "      <th>17605</th>\n",
       "      <td>Zimbabwe</td>\n",
       "      <td>ZWE</td>\n",
       "      <td>2021-05-11</td>\n",
       "      <td>709772.0</td>\n",
       "      <td>539526.0</td>\n",
       "      <td>170246.0</td>\n",
       "      <td>19119.0</td>\n",
       "      <td>21428.0</td>\n",
       "      <td>4.78</td>\n",
       "      <td>3.63</td>\n",
       "      <td>1.15</td>\n",
       "      <td>1442.0</td>\n",
       "      <td>Sinopharm/Beijing</td>\n",
       "      <td>Ministry of Health</td>\n",
       "      <td>https://twitter.com/MoHCCZim/status/1392575941...</td>\n",
       "    </tr>\n",
       "    <tr>\n",
       "      <th>17606</th>\n",
       "      <td>Zimbabwe</td>\n",
       "      <td>ZWE</td>\n",
       "      <td>2021-05-12</td>\n",
       "      <td>730365.0</td>\n",
       "      <td>549797.0</td>\n",
       "      <td>180568.0</td>\n",
       "      <td>20593.0</td>\n",
       "      <td>22019.0</td>\n",
       "      <td>4.91</td>\n",
       "      <td>3.70</td>\n",
       "      <td>1.21</td>\n",
       "      <td>1481.0</td>\n",
       "      <td>Sinopharm/Beijing</td>\n",
       "      <td>Ministry of Health</td>\n",
       "      <td>https://twitter.com/MoHCCZim/status/1392575941...</td>\n",
       "    </tr>\n",
       "  </tbody>\n",
       "</table>\n",
       "<p>17607 rows × 15 columns</p>\n",
       "</div>"
      ],
      "text/plain": [
       "           country iso_code        date  total_vaccinations  \\\n",
       "0      Afghanistan      AFG  2021-02-22                 0.0   \n",
       "1      Afghanistan      AFG  2021-02-23                 NaN   \n",
       "2      Afghanistan      AFG  2021-02-24                 NaN   \n",
       "3      Afghanistan      AFG  2021-02-25                 NaN   \n",
       "4      Afghanistan      AFG  2021-02-26                 NaN   \n",
       "...            ...      ...         ...                 ...   \n",
       "17602     Zimbabwe      ZWE  2021-05-08            657838.0   \n",
       "17603     Zimbabwe      ZWE  2021-05-09            684243.0   \n",
       "17604     Zimbabwe      ZWE  2021-05-10            690653.0   \n",
       "17605     Zimbabwe      ZWE  2021-05-11            709772.0   \n",
       "17606     Zimbabwe      ZWE  2021-05-12            730365.0   \n",
       "\n",
       "       people_vaccinated  people_fully_vaccinated  daily_vaccinations_raw  \\\n",
       "0                    0.0                      NaN                     NaN   \n",
       "1                    NaN                      NaN                     NaN   \n",
       "2                    NaN                      NaN                     NaN   \n",
       "3                    NaN                      NaN                     NaN   \n",
       "4                    NaN                      NaN                     NaN   \n",
       "...                  ...                      ...                     ...   \n",
       "17602           509274.0                 148564.0                 17076.0   \n",
       "17603           526066.0                 158177.0                 26405.0   \n",
       "17604           529360.0                 161293.0                  6410.0   \n",
       "17605           539526.0                 170246.0                 19119.0   \n",
       "17606           549797.0                 180568.0                 20593.0   \n",
       "\n",
       "       daily_vaccinations  total_vaccinations_per_hundred  \\\n",
       "0                     NaN                            0.00   \n",
       "1                  1367.0                             NaN   \n",
       "2                  1367.0                             NaN   \n",
       "3                  1367.0                             NaN   \n",
       "4                  1367.0                             NaN   \n",
       "...                   ...                             ...   \n",
       "17602             19648.0                            4.43   \n",
       "17603             22863.0                            4.60   \n",
       "17604             21877.0                            4.65   \n",
       "17605             21428.0                            4.78   \n",
       "17606             22019.0                            4.91   \n",
       "\n",
       "       people_vaccinated_per_hundred  people_fully_vaccinated_per_hundred  \\\n",
       "0                               0.00                                  NaN   \n",
       "1                                NaN                                  NaN   \n",
       "2                                NaN                                  NaN   \n",
       "3                                NaN                                  NaN   \n",
       "4                                NaN                                  NaN   \n",
       "...                              ...                                  ...   \n",
       "17602                           3.43                                 1.00   \n",
       "17603                           3.54                                 1.06   \n",
       "17604                           3.56                                 1.09   \n",
       "17605                           3.63                                 1.15   \n",
       "17606                           3.70                                 1.21   \n",
       "\n",
       "       daily_vaccinations_per_million  \\\n",
       "0                                 NaN   \n",
       "1                                35.0   \n",
       "2                                35.0   \n",
       "3                                35.0   \n",
       "4                                35.0   \n",
       "...                               ...   \n",
       "17602                          1322.0   \n",
       "17603                          1538.0   \n",
       "17604                          1472.0   \n",
       "17605                          1442.0   \n",
       "17606                          1481.0   \n",
       "\n",
       "                                                vaccines  \\\n",
       "0      Oxford/AstraZeneca, Pfizer/BioNTech, Sinopharm...   \n",
       "1      Oxford/AstraZeneca, Pfizer/BioNTech, Sinopharm...   \n",
       "2      Oxford/AstraZeneca, Pfizer/BioNTech, Sinopharm...   \n",
       "3      Oxford/AstraZeneca, Pfizer/BioNTech, Sinopharm...   \n",
       "4      Oxford/AstraZeneca, Pfizer/BioNTech, Sinopharm...   \n",
       "...                                                  ...   \n",
       "17602                                  Sinopharm/Beijing   \n",
       "17603                                  Sinopharm/Beijing   \n",
       "17604                                  Sinopharm/Beijing   \n",
       "17605                                  Sinopharm/Beijing   \n",
       "17606                                  Sinopharm/Beijing   \n",
       "\n",
       "                     source_name  \\\n",
       "0      World Health Organization   \n",
       "1      World Health Organization   \n",
       "2      World Health Organization   \n",
       "3      World Health Organization   \n",
       "4      World Health Organization   \n",
       "...                          ...   \n",
       "17602         Ministry of Health   \n",
       "17603         Ministry of Health   \n",
       "17604         Ministry of Health   \n",
       "17605         Ministry of Health   \n",
       "17606         Ministry of Health   \n",
       "\n",
       "                                          source_website  \n",
       "0                               https://covid19.who.int/  \n",
       "1                               https://covid19.who.int/  \n",
       "2                               https://covid19.who.int/  \n",
       "3                               https://covid19.who.int/  \n",
       "4                               https://covid19.who.int/  \n",
       "...                                                  ...  \n",
       "17602  https://twitter.com/MoHCCZim/status/1392575941...  \n",
       "17603  https://twitter.com/MoHCCZim/status/1392575941...  \n",
       "17604  https://twitter.com/MoHCCZim/status/1392575941...  \n",
       "17605  https://twitter.com/MoHCCZim/status/1392575941...  \n",
       "17606  https://twitter.com/MoHCCZim/status/1392575941...  \n",
       "\n",
       "[17607 rows x 15 columns]"
      ]
     },
     "execution_count": 5,
     "metadata": {},
     "output_type": "execute_result"
    }
   ],
   "source": [
    "import os\n",
    "import pandas as pd\n",
    "os.getcwd()\n",
    "pd.read_csv('country_vaccinations.csv')"
   ]
  },
  {
   "cell_type": "markdown",
   "metadata": {},
   "source": [
    "The dataset has been downloaded and extracted."
   ]
  },
  {
   "cell_type": "markdown",
   "metadata": {},
   "source": [
    "Let us save and upload our work to Jovian before continuing."
   ]
  },
  {
   "cell_type": "code",
   "execution_count": 6,
   "metadata": {},
   "outputs": [],
   "source": [
    "project_name = \"COVID-19 World Vacination Progress Analysis\""
   ]
  },
  {
   "cell_type": "code",
   "execution_count": 7,
   "metadata": {},
   "outputs": [],
   "source": [
    "!pip install jovian --upgrade -q"
   ]
  },
  {
   "cell_type": "code",
   "execution_count": 8,
   "metadata": {},
   "outputs": [
    {
     "data": {
      "application/javascript": [
       "if (window.IPython && IPython.notebook.kernel) IPython.notebook.kernel.execute('jovian.utils.jupyter.get_notebook_name_saved = lambda: \"' + IPython.notebook.notebook_name + '\"')"
      ],
      "text/plain": [
       "<IPython.core.display.Javascript object>"
      ]
     },
     "metadata": {},
     "output_type": "display_data"
    }
   ],
   "source": [
    "import jovian"
   ]
  },
  {
   "cell_type": "code",
   "execution_count": 9,
   "metadata": {},
   "outputs": [
    {
     "data": {
      "application/javascript": [
       "window.require && require([\"base/js/namespace\"],function(Jupyter){Jupyter.notebook.save_checkpoint()})"
      ],
      "text/plain": [
       "<IPython.core.display.Javascript object>"
      ]
     },
     "metadata": {},
     "output_type": "display_data"
    },
    {
     "name": "stdout",
     "output_type": "stream",
     "text": [
      "[jovian] Attempting to save notebook..\n",
      "[jovian] Updating notebook \"kiranprasanth01/covid-19-world-vacination-progress-analysis\" on https://jovian.ai/\n",
      "[jovian] Uploading notebook..\n",
      "[jovian] Capturing environment..\n",
      "[jovian] Committed successfully! https://jovian.ai/kiranprasanth01/covid-19-world-vacination-progress-analysis\n"
     ]
    },
    {
     "data": {
      "text/plain": [
       "'https://jovian.ai/kiranprasanth01/covid-19-world-vacination-progress-analysis'"
      ]
     },
     "execution_count": 9,
     "metadata": {},
     "output_type": "execute_result"
    }
   ],
   "source": [
    "jovian.commit(project=project_name)"
   ]
  },
  {
   "attachments": {},
   "cell_type": "markdown",
   "metadata": {},
   "source": [
    "<br>\n",
    "<h2><center> Step: 2 <br><br> Data Preparation and Cleaning </h2></center>\n",
    "\n",
    "Here we do the process of dealing with missing data and filling it with appropriate values. Also understanding the dataset and its contents present in rows and columns\n",
    "\n"
   ]
  },
  {
   "cell_type": "code",
   "execution_count": 10,
   "metadata": {},
   "outputs": [
    {
     "data": {
      "text/html": [
       "<div>\n",
       "<style scoped>\n",
       "    .dataframe tbody tr th:only-of-type {\n",
       "        vertical-align: middle;\n",
       "    }\n",
       "\n",
       "    .dataframe tbody tr th {\n",
       "        vertical-align: top;\n",
       "    }\n",
       "\n",
       "    .dataframe thead th {\n",
       "        text-align: right;\n",
       "    }\n",
       "</style>\n",
       "<table border=\"1\" class=\"dataframe\">\n",
       "  <thead>\n",
       "    <tr style=\"text-align: right;\">\n",
       "      <th></th>\n",
       "      <th>country</th>\n",
       "      <th>iso_code</th>\n",
       "      <th>date</th>\n",
       "      <th>total_vaccinations</th>\n",
       "      <th>people_vaccinated</th>\n",
       "      <th>people_fully_vaccinated</th>\n",
       "      <th>daily_vaccinations_raw</th>\n",
       "      <th>daily_vaccinations</th>\n",
       "      <th>total_vaccinations_per_hundred</th>\n",
       "      <th>people_vaccinated_per_hundred</th>\n",
       "      <th>people_fully_vaccinated_per_hundred</th>\n",
       "      <th>daily_vaccinations_per_million</th>\n",
       "      <th>vaccines</th>\n",
       "      <th>source_name</th>\n",
       "      <th>source_website</th>\n",
       "    </tr>\n",
       "  </thead>\n",
       "  <tbody>\n",
       "    <tr>\n",
       "      <th>0</th>\n",
       "      <td>Afghanistan</td>\n",
       "      <td>AFG</td>\n",
       "      <td>2021-02-22</td>\n",
       "      <td>0.0</td>\n",
       "      <td>0.0</td>\n",
       "      <td>NaN</td>\n",
       "      <td>NaN</td>\n",
       "      <td>NaN</td>\n",
       "      <td>0.00</td>\n",
       "      <td>0.00</td>\n",
       "      <td>NaN</td>\n",
       "      <td>NaN</td>\n",
       "      <td>Oxford/AstraZeneca, Pfizer/BioNTech, Sinopharm...</td>\n",
       "      <td>World Health Organization</td>\n",
       "      <td>https://covid19.who.int/</td>\n",
       "    </tr>\n",
       "    <tr>\n",
       "      <th>1</th>\n",
       "      <td>Afghanistan</td>\n",
       "      <td>AFG</td>\n",
       "      <td>2021-02-23</td>\n",
       "      <td>NaN</td>\n",
       "      <td>NaN</td>\n",
       "      <td>NaN</td>\n",
       "      <td>NaN</td>\n",
       "      <td>1367.0</td>\n",
       "      <td>NaN</td>\n",
       "      <td>NaN</td>\n",
       "      <td>NaN</td>\n",
       "      <td>35.0</td>\n",
       "      <td>Oxford/AstraZeneca, Pfizer/BioNTech, Sinopharm...</td>\n",
       "      <td>World Health Organization</td>\n",
       "      <td>https://covid19.who.int/</td>\n",
       "    </tr>\n",
       "    <tr>\n",
       "      <th>2</th>\n",
       "      <td>Afghanistan</td>\n",
       "      <td>AFG</td>\n",
       "      <td>2021-02-24</td>\n",
       "      <td>NaN</td>\n",
       "      <td>NaN</td>\n",
       "      <td>NaN</td>\n",
       "      <td>NaN</td>\n",
       "      <td>1367.0</td>\n",
       "      <td>NaN</td>\n",
       "      <td>NaN</td>\n",
       "      <td>NaN</td>\n",
       "      <td>35.0</td>\n",
       "      <td>Oxford/AstraZeneca, Pfizer/BioNTech, Sinopharm...</td>\n",
       "      <td>World Health Organization</td>\n",
       "      <td>https://covid19.who.int/</td>\n",
       "    </tr>\n",
       "    <tr>\n",
       "      <th>3</th>\n",
       "      <td>Afghanistan</td>\n",
       "      <td>AFG</td>\n",
       "      <td>2021-02-25</td>\n",
       "      <td>NaN</td>\n",
       "      <td>NaN</td>\n",
       "      <td>NaN</td>\n",
       "      <td>NaN</td>\n",
       "      <td>1367.0</td>\n",
       "      <td>NaN</td>\n",
       "      <td>NaN</td>\n",
       "      <td>NaN</td>\n",
       "      <td>35.0</td>\n",
       "      <td>Oxford/AstraZeneca, Pfizer/BioNTech, Sinopharm...</td>\n",
       "      <td>World Health Organization</td>\n",
       "      <td>https://covid19.who.int/</td>\n",
       "    </tr>\n",
       "    <tr>\n",
       "      <th>4</th>\n",
       "      <td>Afghanistan</td>\n",
       "      <td>AFG</td>\n",
       "      <td>2021-02-26</td>\n",
       "      <td>NaN</td>\n",
       "      <td>NaN</td>\n",
       "      <td>NaN</td>\n",
       "      <td>NaN</td>\n",
       "      <td>1367.0</td>\n",
       "      <td>NaN</td>\n",
       "      <td>NaN</td>\n",
       "      <td>NaN</td>\n",
       "      <td>35.0</td>\n",
       "      <td>Oxford/AstraZeneca, Pfizer/BioNTech, Sinopharm...</td>\n",
       "      <td>World Health Organization</td>\n",
       "      <td>https://covid19.who.int/</td>\n",
       "    </tr>\n",
       "    <tr>\n",
       "      <th>...</th>\n",
       "      <td>...</td>\n",
       "      <td>...</td>\n",
       "      <td>...</td>\n",
       "      <td>...</td>\n",
       "      <td>...</td>\n",
       "      <td>...</td>\n",
       "      <td>...</td>\n",
       "      <td>...</td>\n",
       "      <td>...</td>\n",
       "      <td>...</td>\n",
       "      <td>...</td>\n",
       "      <td>...</td>\n",
       "      <td>...</td>\n",
       "      <td>...</td>\n",
       "      <td>...</td>\n",
       "    </tr>\n",
       "    <tr>\n",
       "      <th>17602</th>\n",
       "      <td>Zimbabwe</td>\n",
       "      <td>ZWE</td>\n",
       "      <td>2021-05-08</td>\n",
       "      <td>657838.0</td>\n",
       "      <td>509274.0</td>\n",
       "      <td>148564.0</td>\n",
       "      <td>17076.0</td>\n",
       "      <td>19648.0</td>\n",
       "      <td>4.43</td>\n",
       "      <td>3.43</td>\n",
       "      <td>1.00</td>\n",
       "      <td>1322.0</td>\n",
       "      <td>Sinopharm/Beijing</td>\n",
       "      <td>Ministry of Health</td>\n",
       "      <td>https://twitter.com/MoHCCZim/status/1392575941...</td>\n",
       "    </tr>\n",
       "    <tr>\n",
       "      <th>17603</th>\n",
       "      <td>Zimbabwe</td>\n",
       "      <td>ZWE</td>\n",
       "      <td>2021-05-09</td>\n",
       "      <td>684243.0</td>\n",
       "      <td>526066.0</td>\n",
       "      <td>158177.0</td>\n",
       "      <td>26405.0</td>\n",
       "      <td>22863.0</td>\n",
       "      <td>4.60</td>\n",
       "      <td>3.54</td>\n",
       "      <td>1.06</td>\n",
       "      <td>1538.0</td>\n",
       "      <td>Sinopharm/Beijing</td>\n",
       "      <td>Ministry of Health</td>\n",
       "      <td>https://twitter.com/MoHCCZim/status/1392575941...</td>\n",
       "    </tr>\n",
       "    <tr>\n",
       "      <th>17604</th>\n",
       "      <td>Zimbabwe</td>\n",
       "      <td>ZWE</td>\n",
       "      <td>2021-05-10</td>\n",
       "      <td>690653.0</td>\n",
       "      <td>529360.0</td>\n",
       "      <td>161293.0</td>\n",
       "      <td>6410.0</td>\n",
       "      <td>21877.0</td>\n",
       "      <td>4.65</td>\n",
       "      <td>3.56</td>\n",
       "      <td>1.09</td>\n",
       "      <td>1472.0</td>\n",
       "      <td>Sinopharm/Beijing</td>\n",
       "      <td>Ministry of Health</td>\n",
       "      <td>https://twitter.com/MoHCCZim/status/1392575941...</td>\n",
       "    </tr>\n",
       "    <tr>\n",
       "      <th>17605</th>\n",
       "      <td>Zimbabwe</td>\n",
       "      <td>ZWE</td>\n",
       "      <td>2021-05-11</td>\n",
       "      <td>709772.0</td>\n",
       "      <td>539526.0</td>\n",
       "      <td>170246.0</td>\n",
       "      <td>19119.0</td>\n",
       "      <td>21428.0</td>\n",
       "      <td>4.78</td>\n",
       "      <td>3.63</td>\n",
       "      <td>1.15</td>\n",
       "      <td>1442.0</td>\n",
       "      <td>Sinopharm/Beijing</td>\n",
       "      <td>Ministry of Health</td>\n",
       "      <td>https://twitter.com/MoHCCZim/status/1392575941...</td>\n",
       "    </tr>\n",
       "    <tr>\n",
       "      <th>17606</th>\n",
       "      <td>Zimbabwe</td>\n",
       "      <td>ZWE</td>\n",
       "      <td>2021-05-12</td>\n",
       "      <td>730365.0</td>\n",
       "      <td>549797.0</td>\n",
       "      <td>180568.0</td>\n",
       "      <td>20593.0</td>\n",
       "      <td>22019.0</td>\n",
       "      <td>4.91</td>\n",
       "      <td>3.70</td>\n",
       "      <td>1.21</td>\n",
       "      <td>1481.0</td>\n",
       "      <td>Sinopharm/Beijing</td>\n",
       "      <td>Ministry of Health</td>\n",
       "      <td>https://twitter.com/MoHCCZim/status/1392575941...</td>\n",
       "    </tr>\n",
       "  </tbody>\n",
       "</table>\n",
       "<p>17607 rows × 15 columns</p>\n",
       "</div>"
      ],
      "text/plain": [
       "           country iso_code        date  total_vaccinations  \\\n",
       "0      Afghanistan      AFG  2021-02-22                 0.0   \n",
       "1      Afghanistan      AFG  2021-02-23                 NaN   \n",
       "2      Afghanistan      AFG  2021-02-24                 NaN   \n",
       "3      Afghanistan      AFG  2021-02-25                 NaN   \n",
       "4      Afghanistan      AFG  2021-02-26                 NaN   \n",
       "...            ...      ...         ...                 ...   \n",
       "17602     Zimbabwe      ZWE  2021-05-08            657838.0   \n",
       "17603     Zimbabwe      ZWE  2021-05-09            684243.0   \n",
       "17604     Zimbabwe      ZWE  2021-05-10            690653.0   \n",
       "17605     Zimbabwe      ZWE  2021-05-11            709772.0   \n",
       "17606     Zimbabwe      ZWE  2021-05-12            730365.0   \n",
       "\n",
       "       people_vaccinated  people_fully_vaccinated  daily_vaccinations_raw  \\\n",
       "0                    0.0                      NaN                     NaN   \n",
       "1                    NaN                      NaN                     NaN   \n",
       "2                    NaN                      NaN                     NaN   \n",
       "3                    NaN                      NaN                     NaN   \n",
       "4                    NaN                      NaN                     NaN   \n",
       "...                  ...                      ...                     ...   \n",
       "17602           509274.0                 148564.0                 17076.0   \n",
       "17603           526066.0                 158177.0                 26405.0   \n",
       "17604           529360.0                 161293.0                  6410.0   \n",
       "17605           539526.0                 170246.0                 19119.0   \n",
       "17606           549797.0                 180568.0                 20593.0   \n",
       "\n",
       "       daily_vaccinations  total_vaccinations_per_hundred  \\\n",
       "0                     NaN                            0.00   \n",
       "1                  1367.0                             NaN   \n",
       "2                  1367.0                             NaN   \n",
       "3                  1367.0                             NaN   \n",
       "4                  1367.0                             NaN   \n",
       "...                   ...                             ...   \n",
       "17602             19648.0                            4.43   \n",
       "17603             22863.0                            4.60   \n",
       "17604             21877.0                            4.65   \n",
       "17605             21428.0                            4.78   \n",
       "17606             22019.0                            4.91   \n",
       "\n",
       "       people_vaccinated_per_hundred  people_fully_vaccinated_per_hundred  \\\n",
       "0                               0.00                                  NaN   \n",
       "1                                NaN                                  NaN   \n",
       "2                                NaN                                  NaN   \n",
       "3                                NaN                                  NaN   \n",
       "4                                NaN                                  NaN   \n",
       "...                              ...                                  ...   \n",
       "17602                           3.43                                 1.00   \n",
       "17603                           3.54                                 1.06   \n",
       "17604                           3.56                                 1.09   \n",
       "17605                           3.63                                 1.15   \n",
       "17606                           3.70                                 1.21   \n",
       "\n",
       "       daily_vaccinations_per_million  \\\n",
       "0                                 NaN   \n",
       "1                                35.0   \n",
       "2                                35.0   \n",
       "3                                35.0   \n",
       "4                                35.0   \n",
       "...                               ...   \n",
       "17602                          1322.0   \n",
       "17603                          1538.0   \n",
       "17604                          1472.0   \n",
       "17605                          1442.0   \n",
       "17606                          1481.0   \n",
       "\n",
       "                                                vaccines  \\\n",
       "0      Oxford/AstraZeneca, Pfizer/BioNTech, Sinopharm...   \n",
       "1      Oxford/AstraZeneca, Pfizer/BioNTech, Sinopharm...   \n",
       "2      Oxford/AstraZeneca, Pfizer/BioNTech, Sinopharm...   \n",
       "3      Oxford/AstraZeneca, Pfizer/BioNTech, Sinopharm...   \n",
       "4      Oxford/AstraZeneca, Pfizer/BioNTech, Sinopharm...   \n",
       "...                                                  ...   \n",
       "17602                                  Sinopharm/Beijing   \n",
       "17603                                  Sinopharm/Beijing   \n",
       "17604                                  Sinopharm/Beijing   \n",
       "17605                                  Sinopharm/Beijing   \n",
       "17606                                  Sinopharm/Beijing   \n",
       "\n",
       "                     source_name  \\\n",
       "0      World Health Organization   \n",
       "1      World Health Organization   \n",
       "2      World Health Organization   \n",
       "3      World Health Organization   \n",
       "4      World Health Organization   \n",
       "...                          ...   \n",
       "17602         Ministry of Health   \n",
       "17603         Ministry of Health   \n",
       "17604         Ministry of Health   \n",
       "17605         Ministry of Health   \n",
       "17606         Ministry of Health   \n",
       "\n",
       "                                          source_website  \n",
       "0                               https://covid19.who.int/  \n",
       "1                               https://covid19.who.int/  \n",
       "2                               https://covid19.who.int/  \n",
       "3                               https://covid19.who.int/  \n",
       "4                               https://covid19.who.int/  \n",
       "...                                                  ...  \n",
       "17602  https://twitter.com/MoHCCZim/status/1392575941...  \n",
       "17603  https://twitter.com/MoHCCZim/status/1392575941...  \n",
       "17604  https://twitter.com/MoHCCZim/status/1392575941...  \n",
       "17605  https://twitter.com/MoHCCZim/status/1392575941...  \n",
       "17606  https://twitter.com/MoHCCZim/status/1392575941...  \n",
       "\n",
       "[17607 rows x 15 columns]"
      ]
     },
     "execution_count": 10,
     "metadata": {},
     "output_type": "execute_result"
    }
   ],
   "source": [
    "dataset_df = pd.read_csv('country_vaccinations.csv')\n",
    "dataset_df"
   ]
  },
  {
   "cell_type": "markdown",
   "metadata": {},
   "source": [
    "### The Overal information contained in the dataset"
   ]
  },
  {
   "cell_type": "code",
   "execution_count": 11,
   "metadata": {},
   "outputs": [
    {
     "name": "stdout",
     "output_type": "stream",
     "text": [
      "<class 'pandas.core.frame.DataFrame'>\n",
      "RangeIndex: 17607 entries, 0 to 17606\n",
      "Data columns (total 15 columns):\n",
      " #   Column                               Non-Null Count  Dtype  \n",
      "---  ------                               --------------  -----  \n",
      " 0   country                              17607 non-null  object \n",
      " 1   iso_code                             17607 non-null  object \n",
      " 2   date                                 17607 non-null  object \n",
      " 3   total_vaccinations                   10251 non-null  float64\n",
      " 4   people_vaccinated                    9526 non-null   float64\n",
      " 5   people_fully_vaccinated              7185 non-null   float64\n",
      " 6   daily_vaccinations_raw               8568 non-null   float64\n",
      " 7   daily_vaccinations                   17391 non-null  float64\n",
      " 8   total_vaccinations_per_hundred       10251 non-null  float64\n",
      " 9   people_vaccinated_per_hundred        9526 non-null   float64\n",
      " 10  people_fully_vaccinated_per_hundred  7185 non-null   float64\n",
      " 11  daily_vaccinations_per_million       17391 non-null  float64\n",
      " 12  vaccines                             17607 non-null  object \n",
      " 13  source_name                          17607 non-null  object \n",
      " 14  source_website                       17607 non-null  object \n",
      "dtypes: float64(9), object(6)\n",
      "memory usage: 2.0+ MB\n"
     ]
    }
   ],
   "source": [
    "dataset_df.info()"
   ]
  },
  {
   "cell_type": "markdown",
   "metadata": {},
   "source": [
    "### Checking No.of.Rows and columns"
   ]
  },
  {
   "cell_type": "code",
   "execution_count": 37,
   "metadata": {},
   "outputs": [
    {
     "data": {
      "text/plain": [
       "(17607, 15)"
      ]
     },
     "execution_count": 37,
     "metadata": {},
     "output_type": "execute_result"
    }
   ],
   "source": [
    "dataset_df.shape"
   ]
  },
  {
   "cell_type": "markdown",
   "metadata": {},
   "source": [
    "### Summing the missing values "
   ]
  },
  {
   "cell_type": "code",
   "execution_count": 134,
   "metadata": {},
   "outputs": [
    {
     "data": {
      "text/plain": [
       "country                                    0\n",
       "iso_code                                   0\n",
       "date                                       0\n",
       "total_vaccinations                      7356\n",
       "people_vaccinated                       8081\n",
       "people_fully_vaccinated                10422\n",
       "daily_vaccinations_raw                  9039\n",
       "daily_vaccinations                       216\n",
       "total_vaccinations_per_hundred          7356\n",
       "people_vaccinated_per_hundred           8081\n",
       "people_fully_vaccinated_per_hundred    10422\n",
       "daily_vaccinations_per_million           216\n",
       "vaccines                                   0\n",
       "source_name                                0\n",
       "source_website                             0\n",
       "dtype: int64"
      ]
     },
     "execution_count": 134,
     "metadata": {},
     "output_type": "execute_result"
    }
   ],
   "source": [
    "dataset_df.isna().sum()"
   ]
  },
  {
   "cell_type": "markdown",
   "metadata": {},
   "source": [
    "### Checking the data types contained in the dataset"
   ]
  },
  {
   "cell_type": "code",
   "execution_count": 39,
   "metadata": {},
   "outputs": [
    {
     "data": {
      "text/plain": [
       "country                                 object\n",
       "iso_code                                object\n",
       "date                                    object\n",
       "total_vaccinations                     float64\n",
       "people_vaccinated                      float64\n",
       "people_fully_vaccinated                float64\n",
       "daily_vaccinations_raw                 float64\n",
       "daily_vaccinations                     float64\n",
       "total_vaccinations_per_hundred         float64\n",
       "people_vaccinated_per_hundred          float64\n",
       "people_fully_vaccinated_per_hundred    float64\n",
       "daily_vaccinations_per_million         float64\n",
       "vaccines                                object\n",
       "source_name                             object\n",
       "source_website                          object\n",
       "dtype: object"
      ]
     },
     "execution_count": 39,
     "metadata": {},
     "output_type": "execute_result"
    }
   ],
   "source": [
    "dataset_df.dtypes"
   ]
  },
  {
   "cell_type": "markdown",
   "metadata": {},
   "source": [
    "### Converting 'Date' Column to Date format"
   ]
  },
  {
   "cell_type": "code",
   "execution_count": 40,
   "metadata": {},
   "outputs": [],
   "source": [
    "dataset_df[\"date\"] = pd.to_datetime(dataset_df.date)"
   ]
  },
  {
   "cell_type": "code",
   "execution_count": 41,
   "metadata": {},
   "outputs": [
    {
     "data": {
      "text/plain": [
       "country                                        object\n",
       "iso_code                                       object\n",
       "date                                   datetime64[ns]\n",
       "total_vaccinations                            float64\n",
       "people_vaccinated                             float64\n",
       "people_fully_vaccinated                       float64\n",
       "daily_vaccinations_raw                        float64\n",
       "daily_vaccinations                            float64\n",
       "total_vaccinations_per_hundred                float64\n",
       "people_vaccinated_per_hundred                 float64\n",
       "people_fully_vaccinated_per_hundred           float64\n",
       "daily_vaccinations_per_million                float64\n",
       "vaccines                                       object\n",
       "source_name                                    object\n",
       "source_website                                 object\n",
       "dtype: object"
      ]
     },
     "execution_count": 41,
     "metadata": {},
     "output_type": "execute_result"
    }
   ],
   "source": [
    "dataset_df.dtypes"
   ]
  },
  {
   "cell_type": "markdown",
   "metadata": {},
   "source": [
    "### Finally, Discriptive Statistics about the dataset"
   ]
  },
  {
   "cell_type": "code",
   "execution_count": 42,
   "metadata": {},
   "outputs": [
    {
     "data": {
      "text/html": [
       "<div>\n",
       "<style scoped>\n",
       "    .dataframe tbody tr th:only-of-type {\n",
       "        vertical-align: middle;\n",
       "    }\n",
       "\n",
       "    .dataframe tbody tr th {\n",
       "        vertical-align: top;\n",
       "    }\n",
       "\n",
       "    .dataframe thead th {\n",
       "        text-align: right;\n",
       "    }\n",
       "</style>\n",
       "<table border=\"1\" class=\"dataframe\">\n",
       "  <thead>\n",
       "    <tr style=\"text-align: right;\">\n",
       "      <th></th>\n",
       "      <th>total_vaccinations</th>\n",
       "      <th>people_vaccinated</th>\n",
       "      <th>people_fully_vaccinated</th>\n",
       "      <th>daily_vaccinations_raw</th>\n",
       "      <th>daily_vaccinations</th>\n",
       "      <th>total_vaccinations_per_hundred</th>\n",
       "      <th>people_vaccinated_per_hundred</th>\n",
       "      <th>people_fully_vaccinated_per_hundred</th>\n",
       "      <th>daily_vaccinations_per_million</th>\n",
       "    </tr>\n",
       "  </thead>\n",
       "  <tbody>\n",
       "    <tr>\n",
       "      <th>count</th>\n",
       "      <td>1.025100e+04</td>\n",
       "      <td>9.526000e+03</td>\n",
       "      <td>7.185000e+03</td>\n",
       "      <td>8.568000e+03</td>\n",
       "      <td>1.739100e+04</td>\n",
       "      <td>10251.000000</td>\n",
       "      <td>9526.000000</td>\n",
       "      <td>7185.000000</td>\n",
       "      <td>17391.000000</td>\n",
       "    </tr>\n",
       "    <tr>\n",
       "      <th>mean</th>\n",
       "      <td>5.716299e+06</td>\n",
       "      <td>3.500000e+06</td>\n",
       "      <td>1.817309e+06</td>\n",
       "      <td>1.445607e+05</td>\n",
       "      <td>7.941384e+04</td>\n",
       "      <td>17.199317</td>\n",
       "      <td>12.341277</td>\n",
       "      <td>6.403328</td>\n",
       "      <td>3031.492094</td>\n",
       "    </tr>\n",
       "    <tr>\n",
       "      <th>std</th>\n",
       "      <td>2.399767e+07</td>\n",
       "      <td>1.313534e+07</td>\n",
       "      <td>7.875693e+06</td>\n",
       "      <td>5.906624e+05</td>\n",
       "      <td>3.837504e+05</td>\n",
       "      <td>24.719775</td>\n",
       "      <td>16.087866</td>\n",
       "      <td>10.620806</td>\n",
       "      <td>4639.012478</td>\n",
       "    </tr>\n",
       "    <tr>\n",
       "      <th>min</th>\n",
       "      <td>0.000000e+00</td>\n",
       "      <td>0.000000e+00</td>\n",
       "      <td>1.000000e+00</td>\n",
       "      <td>0.000000e+00</td>\n",
       "      <td>0.000000e+00</td>\n",
       "      <td>0.000000</td>\n",
       "      <td>0.000000</td>\n",
       "      <td>0.000000</td>\n",
       "      <td>0.000000</td>\n",
       "    </tr>\n",
       "    <tr>\n",
       "      <th>25%</th>\n",
       "      <td>6.450950e+04</td>\n",
       "      <td>5.595875e+04</td>\n",
       "      <td>2.520600e+04</td>\n",
       "      <td>3.176000e+03</td>\n",
       "      <td>8.520000e+02</td>\n",
       "      <td>1.500000</td>\n",
       "      <td>1.390000</td>\n",
       "      <td>0.700000</td>\n",
       "      <td>355.000000</td>\n",
       "    </tr>\n",
       "    <tr>\n",
       "      <th>50%</th>\n",
       "      <td>4.701090e+05</td>\n",
       "      <td>3.617215e+05</td>\n",
       "      <td>1.920300e+05</td>\n",
       "      <td>1.674100e+04</td>\n",
       "      <td>5.974000e+03</td>\n",
       "      <td>7.170000</td>\n",
       "      <td>5.620000</td>\n",
       "      <td>2.670000</td>\n",
       "      <td>1523.000000</td>\n",
       "    </tr>\n",
       "    <tr>\n",
       "      <th>75%</th>\n",
       "      <td>2.154874e+06</td>\n",
       "      <td>1.491252e+06</td>\n",
       "      <td>7.725270e+05</td>\n",
       "      <td>6.590250e+04</td>\n",
       "      <td>3.005350e+04</td>\n",
       "      <td>22.565000</td>\n",
       "      <td>17.017500</td>\n",
       "      <td>7.470000</td>\n",
       "      <td>4122.500000</td>\n",
       "    </tr>\n",
       "    <tr>\n",
       "      <th>max</th>\n",
       "      <td>3.669100e+08</td>\n",
       "      <td>1.546242e+08</td>\n",
       "      <td>1.189873e+08</td>\n",
       "      <td>1.263800e+07</td>\n",
       "      <td>9.882286e+06</td>\n",
       "      <td>220.400000</td>\n",
       "      <td>114.950000</td>\n",
       "      <td>105.460000</td>\n",
       "      <td>118759.000000</td>\n",
       "    </tr>\n",
       "  </tbody>\n",
       "</table>\n",
       "</div>"
      ],
      "text/plain": [
       "       total_vaccinations  people_vaccinated  people_fully_vaccinated  \\\n",
       "count        1.025100e+04       9.526000e+03             7.185000e+03   \n",
       "mean         5.716299e+06       3.500000e+06             1.817309e+06   \n",
       "std          2.399767e+07       1.313534e+07             7.875693e+06   \n",
       "min          0.000000e+00       0.000000e+00             1.000000e+00   \n",
       "25%          6.450950e+04       5.595875e+04             2.520600e+04   \n",
       "50%          4.701090e+05       3.617215e+05             1.920300e+05   \n",
       "75%          2.154874e+06       1.491252e+06             7.725270e+05   \n",
       "max          3.669100e+08       1.546242e+08             1.189873e+08   \n",
       "\n",
       "       daily_vaccinations_raw  daily_vaccinations  \\\n",
       "count            8.568000e+03        1.739100e+04   \n",
       "mean             1.445607e+05        7.941384e+04   \n",
       "std              5.906624e+05        3.837504e+05   \n",
       "min              0.000000e+00        0.000000e+00   \n",
       "25%              3.176000e+03        8.520000e+02   \n",
       "50%              1.674100e+04        5.974000e+03   \n",
       "75%              6.590250e+04        3.005350e+04   \n",
       "max              1.263800e+07        9.882286e+06   \n",
       "\n",
       "       total_vaccinations_per_hundred  people_vaccinated_per_hundred  \\\n",
       "count                    10251.000000                    9526.000000   \n",
       "mean                        17.199317                      12.341277   \n",
       "std                         24.719775                      16.087866   \n",
       "min                          0.000000                       0.000000   \n",
       "25%                          1.500000                       1.390000   \n",
       "50%                          7.170000                       5.620000   \n",
       "75%                         22.565000                      17.017500   \n",
       "max                        220.400000                     114.950000   \n",
       "\n",
       "       people_fully_vaccinated_per_hundred  daily_vaccinations_per_million  \n",
       "count                          7185.000000                    17391.000000  \n",
       "mean                              6.403328                     3031.492094  \n",
       "std                              10.620806                     4639.012478  \n",
       "min                               0.000000                        0.000000  \n",
       "25%                               0.700000                      355.000000  \n",
       "50%                               2.670000                     1523.000000  \n",
       "75%                               7.470000                     4122.500000  \n",
       "max                             105.460000                   118759.000000  "
      ]
     },
     "execution_count": 42,
     "metadata": {},
     "output_type": "execute_result"
    }
   ],
   "source": [
    "dataset_df.describe()"
   ]
  },
  {
   "cell_type": "code",
   "execution_count": null,
   "metadata": {},
   "outputs": [],
   "source": [
    "import jovian"
   ]
  },
  {
   "cell_type": "code",
   "execution_count": null,
   "metadata": {},
   "outputs": [],
   "source": [
    "jovian.commit()"
   ]
  },
  {
   "attachments": {},
   "cell_type": "markdown",
   "metadata": {},
   "source": [
    "<br>\n",
    "<h2><center> Step: 3 <br><br>  Exploratory Analysis and Visualization </h2></center>\n",
    "\n",
    "*Let's Analysis the Dataset!*\n",
    "\n"
   ]
  },
  {
   "cell_type": "markdown",
   "metadata": {},
   "source": [
    "Here we are exploring the data and trying to understand what the dataset's columns and rows contains and what analysis can be done through them. We use certain libraries like seaborn and matplot which are libraries of python to perfrom the analysis tasks and to visualize it using different charts and graphs"
   ]
  },
  {
   "cell_type": "markdown",
   "metadata": {},
   "source": [
    "Let's begin by importing`matplotlib.pyplot` and `seaborn`."
   ]
  },
  {
   "cell_type": "code",
   "execution_count": 12,
   "metadata": {},
   "outputs": [],
   "source": [
    "import seaborn as sns\n",
    "import matplotlib\n",
    "import matplotlib.pyplot as plt\n",
    "%matplotlib inline\n",
    "\n",
    "sns.set_style('darkgrid')\n",
    "matplotlib.rcParams['font.size'] = 14\n",
    "matplotlib.rcParams['figure.figsize'] = (9, 5)\n",
    "matplotlib.rcParams['figure.facecolor'] = '#00000000'"
   ]
  },
  {
   "cell_type": "markdown",
   "metadata": {},
   "source": [
    "### Number of countries present in the dataset"
   ]
  },
  {
   "cell_type": "code",
   "execution_count": 13,
   "metadata": {},
   "outputs": [
    {
     "name": "stdout",
     "output_type": "stream",
     "text": [
      "The Total number of Countries present in the dataset is 211\n"
     ]
    }
   ],
   "source": [
    "print(\"The Total number of Countries present in the dataset is {}\".format(dataset_df.country.nunique()))"
   ]
  },
  {
   "cell_type": "markdown",
   "metadata": {},
   "source": [
    "### Top countries with maximum vaccinations"
   ]
  },
  {
   "cell_type": "code",
   "execution_count": 14,
   "metadata": {},
   "outputs": [
    {
     "data": {
      "text/html": [
       "<div>\n",
       "<style scoped>\n",
       "    .dataframe tbody tr th:only-of-type {\n",
       "        vertical-align: middle;\n",
       "    }\n",
       "\n",
       "    .dataframe tbody tr th {\n",
       "        vertical-align: top;\n",
       "    }\n",
       "\n",
       "    .dataframe thead th {\n",
       "        text-align: right;\n",
       "    }\n",
       "</style>\n",
       "<table border=\"1\" class=\"dataframe\">\n",
       "  <thead>\n",
       "    <tr style=\"text-align: right;\">\n",
       "      <th></th>\n",
       "      <th>total_vaccinations</th>\n",
       "    </tr>\n",
       "    <tr>\n",
       "      <th>country</th>\n",
       "      <th></th>\n",
       "    </tr>\n",
       "  </thead>\n",
       "  <tbody>\n",
       "    <tr>\n",
       "      <th>China</th>\n",
       "      <td>366910000.0</td>\n",
       "    </tr>\n",
       "    <tr>\n",
       "      <th>United States</th>\n",
       "      <td>266596486.0</td>\n",
       "    </tr>\n",
       "    <tr>\n",
       "      <th>India</th>\n",
       "      <td>178361846.0</td>\n",
       "    </tr>\n",
       "    <tr>\n",
       "      <th>United Kingdom</th>\n",
       "      <td>54797640.0</td>\n",
       "    </tr>\n",
       "    <tr>\n",
       "      <th>Brazil</th>\n",
       "      <td>50308106.0</td>\n",
       "    </tr>\n",
       "    <tr>\n",
       "      <th>England</th>\n",
       "      <td>45908796.0</td>\n",
       "    </tr>\n",
       "    <tr>\n",
       "      <th>Germany</th>\n",
       "      <td>38646171.0</td>\n",
       "    </tr>\n",
       "    <tr>\n",
       "      <th>France</th>\n",
       "      <td>27455748.0</td>\n",
       "    </tr>\n",
       "    <tr>\n",
       "      <th>Italy</th>\n",
       "      <td>25948925.0</td>\n",
       "    </tr>\n",
       "    <tr>\n",
       "      <th>Turkey</th>\n",
       "      <td>25402277.0</td>\n",
       "    </tr>\n",
       "    <tr>\n",
       "      <th>Russia</th>\n",
       "      <td>22782931.0</td>\n",
       "    </tr>\n",
       "    <tr>\n",
       "      <th>Indonesia</th>\n",
       "      <td>22617205.0</td>\n",
       "    </tr>\n",
       "    <tr>\n",
       "      <th>Mexico</th>\n",
       "      <td>21986456.0</td>\n",
       "    </tr>\n",
       "    <tr>\n",
       "      <th>Spain</th>\n",
       "      <td>21071940.0</td>\n",
       "    </tr>\n",
       "    <tr>\n",
       "      <th>Canada</th>\n",
       "      <td>17297879.0</td>\n",
       "    </tr>\n",
       "    <tr>\n",
       "      <th>Chile</th>\n",
       "      <td>16246599.0</td>\n",
       "    </tr>\n",
       "    <tr>\n",
       "      <th>Poland</th>\n",
       "      <td>15144771.0</td>\n",
       "    </tr>\n",
       "    <tr>\n",
       "      <th>United Arab Emirates</th>\n",
       "      <td>11422565.0</td>\n",
       "    </tr>\n",
       "    <tr>\n",
       "      <th>Saudi Arabia</th>\n",
       "      <td>11195164.0</td>\n",
       "    </tr>\n",
       "    <tr>\n",
       "      <th>Israel</th>\n",
       "      <td>10525163.0</td>\n",
       "    </tr>\n",
       "  </tbody>\n",
       "</table>\n",
       "</div>"
      ],
      "text/plain": [
       "                      total_vaccinations\n",
       "country                                 \n",
       "China                        366910000.0\n",
       "United States                266596486.0\n",
       "India                        178361846.0\n",
       "United Kingdom                54797640.0\n",
       "Brazil                        50308106.0\n",
       "England                       45908796.0\n",
       "Germany                       38646171.0\n",
       "France                        27455748.0\n",
       "Italy                         25948925.0\n",
       "Turkey                        25402277.0\n",
       "Russia                        22782931.0\n",
       "Indonesia                     22617205.0\n",
       "Mexico                        21986456.0\n",
       "Spain                         21071940.0\n",
       "Canada                        17297879.0\n",
       "Chile                         16246599.0\n",
       "Poland                        15144771.0\n",
       "United Arab Emirates          11422565.0\n",
       "Saudi Arabia                  11195164.0\n",
       "Israel                        10525163.0"
      ]
     },
     "execution_count": 14,
     "metadata": {},
     "output_type": "execute_result"
    }
   ],
   "source": [
    "country_tot_vacc = dataset_df.groupby('country')[['total_vaccinations']].max()\n",
    "top20_vacc = country_tot_vacc.sort_values('total_vaccinations',ascending=False).head(20)\n",
    "top20_vacc"
   ]
  },
  {
   "cell_type": "markdown",
   "metadata": {},
   "source": [
    "###### Visualization of top countries with maximum vaccinations"
   ]
  },
  {
   "cell_type": "code",
   "execution_count": 123,
   "metadata": {},
   "outputs": [
    {
     "data": {
      "image/png": "[encoded data removed]",
      "text/plain": [
       "<Figure size 648x360 with 1 Axes>"
      ]
     },
     "metadata": {
      "needs_background": "light"
     },
     "output_type": "display_data"
    }
   ],
   "source": [
    "plt.plot(top20_vacc,'s--r');\n",
    "plt.xticks(rotation=75);\n",
    "plt.title(\"Top countries with maximum vaccinations\");\n",
    "plt.xlabel('Countries');\n",
    "plt.ylabel('No.of.Total Vaccinations');"
   ]
  },
  {
   "cell_type": "markdown",
   "metadata": {},
   "source": [
    "### Number of various vaccines in the world till date"
   ]
  },
  {
   "cell_type": "code",
   "execution_count": 163,
   "metadata": {},
   "outputs": [
    {
     "name": "stdout",
     "output_type": "stream",
     "text": [
      "Number of various vaccanies given across the world are 41\n"
     ]
    }
   ],
   "source": [
    "print(\"Number of various vaccanies given across the world are {}\"\n",
    "      .format(dataset_df.vaccines.nunique()))"
   ]
  },
  {
   "cell_type": "markdown",
   "metadata": {},
   "source": [
    "### Average number of people vaccinated"
   ]
  },
  {
   "cell_type": "code",
   "execution_count": 142,
   "metadata": {},
   "outputs": [
    {
     "name": "stdout",
     "output_type": "stream",
     "text": [
      "Average number of people vaccinated across the world are 3499999.948981734\n"
     ]
    }
   ],
   "source": [
    "print(\"Average number of people vaccinated across the world are {}\" .format(dataset_df.people_vaccinated.mean()))"
   ]
  },
  {
   "cell_type": "markdown",
   "metadata": {},
   "source": [
    "### Distribution of Total Vaccinations per hundered"
   ]
  },
  {
   "cell_type": "code",
   "execution_count": 19,
   "metadata": {},
   "outputs": [
    {
     "data": {
      "image/png": "[encoded data removed]",
      "text/plain": [
       "<Figure size 648x360 with 1 Axes>"
      ]
     },
     "metadata": {
      "needs_background": "light"
     },
     "output_type": "display_data"
    }
   ],
   "source": [
    "plt.title('Distribution of Total Vaccinations per hundered')\n",
    "plt.hist(dataset_df.total_vaccinations_per_hundred);"
   ]
  },
  {
   "cell_type": "markdown",
   "metadata": {},
   "source": [
    "### Count of various vaccinations in the dataset"
   ]
  },
  {
   "cell_type": "code",
   "execution_count": 137,
   "metadata": {},
   "outputs": [
    {
     "data": {
      "text/plain": [
       "Oxford/AstraZeneca                                                                    3146\n",
       "Moderna, Oxford/AstraZeneca, Pfizer/BioNTech                                          2265\n",
       "Johnson&Johnson, Moderna, Oxford/AstraZeneca, Pfizer/BioNTech                         1896\n",
       "Oxford/AstraZeneca, Pfizer/BioNTech                                                   1412\n",
       "Pfizer/BioNTech                                                                       1184\n",
       "Oxford/AstraZeneca, Pfizer/BioNTech, Sinovac                                           892\n",
       "Moderna, Pfizer/BioNTech                                                               799\n",
       "Oxford/AstraZeneca, Pfizer/BioNTech, Sinopharm/Beijing, Sputnik V                      775\n",
       "Oxford/AstraZeneca, Sinopharm/Beijing                                                  667\n",
       "Sputnik V                                                                              499\n",
       "Oxford/AstraZeneca, Sinovac                                                            316\n",
       "Sinopharm/Beijing                                                                      292\n",
       "Oxford/AstraZeneca, Pfizer/BioNTech, Sinopharm/Beijing                                 271\n",
       "Pfizer/BioNTech, Sinopharm/Beijing                                                     208\n",
       "Pfizer/BioNTech, Sinovac                                                               202\n",
       "Oxford/AstraZeneca, Pfizer/BioNTech, Sinovac, Sputnik V                                199\n",
       "Oxford/AstraZeneca, Sinopharm/Beijing, Sinovac                                         197\n",
       "Sinopharm/Beijing, Sinopharm/Wuhan, Sinovac                                            150\n",
       "EpiVacCorona, Sputnik V                                                                150\n",
       "Oxford/AstraZeneca, Sinopharm/Beijing, Sputnik V                                       148\n",
       "Johnson&Johnson, Moderna, Pfizer/BioNTech                                              145\n",
       "CanSino, Oxford/AstraZeneca, Pfizer/BioNTech, Sinovac, Sputnik V                       140\n",
       "Oxford/AstraZeneca, Sputnik V                                                          139\n",
       "Moderna, Oxford/AstraZeneca, Pfizer/BioNTech, Sinopharm/Beijing, Sputnik V             137\n",
       "Covaxin, Oxford/AstraZeneca, Sinopharm/Beijing                                         130\n",
       "Oxford/AstraZeneca, Pfizer/BioNTech, Sinopharm/Beijing, Sinopharm/Wuhan, Sputnik V     129\n",
       "Johnson&Johnson, Oxford/AstraZeneca, Pfizer/BioNTech                                   127\n",
       "Covaxin, Oxford/AstraZeneca                                                            120\n",
       "Moderna, Oxford/AstraZeneca                                                            118\n",
       "Oxford/AstraZeneca, Sinopharm/Beijing, Sinovac, Sputnik V                              108\n",
       "Sinopharm/Beijing, Sputnik V                                                           103\n",
       "CanSino, Sinopharm/Beijing, Sinovac, Sputnik V                                         101\n",
       "Covaxin, Oxford/AstraZeneca, Sinopharm/Beijing, Sputnik V                               92\n",
       "Johnson&Johnson                                                                         87\n",
       "Pfizer/BioNTech, Sputnik V                                                              75\n",
       "Oxford/AstraZeneca, Sinovac, Sputnik V                                                  73\n",
       "Pfizer/BioNTech, Sinovac, Sputnik V                                                     60\n",
       "Moderna, Oxford/AstraZeneca, Sinopharm/Beijing, Sputnik V                               29\n",
       "Johnson&Johnson, Moderna, Oxford/AstraZeneca, Pfizer/BioNTech, Sputnik V                24\n",
       "EpiVacCorona, Oxford/AstraZeneca, Sinopharm/Beijing, Sputnik V                           1\n",
       "Abdala                                                                                   1\n",
       "Name: vaccines, dtype: int64"
      ]
     },
     "execution_count": 137,
     "metadata": {},
     "output_type": "execute_result"
    }
   ],
   "source": [
    "dataset_df['vaccines'].value_counts()"
   ]
  },
  {
   "cell_type": "code",
   "execution_count": 139,
   "metadata": {},
   "outputs": [
    {
     "name": "stdout",
     "output_type": "stream",
     "text": [
      "Total number of vaccinations in the dataset are: 17607\n"
     ]
    }
   ],
   "source": [
    "print(\"Total number of vaccinations in the dataset are: {}\"\n",
    "      .format(dataset_df['vaccines'].value_counts().sum()))"
   ]
  },
  {
   "cell_type": "markdown",
   "metadata": {},
   "source": [
    "### Average number of vaccinations produced by manufactures\n",
    "Here we extra the file called: `country_vaccinations_by_manufacturer.csv` from the working directory, which is originally downloaded from kaggle."
   ]
  },
  {
   "cell_type": "code",
   "execution_count": 122,
   "metadata": {},
   "outputs": [],
   "source": [
    "vacc_dataset = pd.read_csv('country_vaccinations_by_manufacturer.csv')"
   ]
  },
  {
   "cell_type": "code",
   "execution_count": 117,
   "metadata": {},
   "outputs": [
    {
     "data": {
      "text/plain": [
       "5168580.8177521005"
      ]
     },
     "execution_count": 117,
     "metadata": {},
     "output_type": "execute_result"
    }
   ],
   "source": [
    "vacc_dataset.total_vaccinations.mean()"
   ]
  },
  {
   "cell_type": "code",
   "execution_count": 22,
   "metadata": {},
   "outputs": [],
   "source": [
    "import jovian"
   ]
  },
  {
   "cell_type": "code",
   "execution_count": 23,
   "metadata": {},
   "outputs": [
    {
     "data": {
      "application/javascript": [
       "window.require && require([\"base/js/namespace\"],function(Jupyter){Jupyter.notebook.save_checkpoint()})"
      ],
      "text/plain": [
       "<IPython.core.display.Javascript object>"
      ]
     },
     "metadata": {},
     "output_type": "display_data"
    },
    {
     "name": "stdout",
     "output_type": "stream",
     "text": [
      "[jovian] Attempting to save notebook..\n",
      "[jovian] Updating notebook \"kiranprasanth01/covid-19-world-vacination-progress-analysis\" on https://jovian.ai/\n",
      "[jovian] Uploading notebook..\n",
      "[jovian] Capturing environment..\n",
      "[jovian] Committed successfully! https://jovian.ai/kiranprasanth01/covid-19-world-vacination-progress-analysis\n"
     ]
    },
    {
     "data": {
      "text/plain": [
       "'https://jovian.ai/kiranprasanth01/covid-19-world-vacination-progress-analysis'"
      ]
     },
     "execution_count": 23,
     "metadata": {},
     "output_type": "execute_result"
    }
   ],
   "source": [
    "jovian.commit()"
   ]
  },
  {
   "attachments": {},
   "cell_type": "markdown",
   "metadata": {},
   "source": [
    "<br>\n",
    "<h2><center> Step: 4 <br><br> Asking and Answering Questions</h2></center>\n",
    "\n",
    "Here we try asking and solving various questions that can leads us to draw some conclusions and inferences about the COVID-19 Vaccination progress dataset\n"
   ]
  },
  {
   "cell_type": "markdown",
   "metadata": {},
   "source": [
    "### Q1: Which vaccine people had taken the most?"
   ]
  },
  {
   "cell_type": "code",
   "execution_count": 72,
   "metadata": {},
   "outputs": [],
   "source": [
    "tot_vacc = dataset_df.groupby('vaccines')[['total_vaccinations']].max()\n"
   ]
  },
  {
   "cell_type": "code",
   "execution_count": 115,
   "metadata": {},
   "outputs": [
    {
     "data": {
      "text/html": [
       "<div>\n",
       "<style scoped>\n",
       "    .dataframe tbody tr th:only-of-type {\n",
       "        vertical-align: middle;\n",
       "    }\n",
       "\n",
       "    .dataframe tbody tr th {\n",
       "        vertical-align: top;\n",
       "    }\n",
       "\n",
       "    .dataframe thead th {\n",
       "        text-align: right;\n",
       "    }\n",
       "</style>\n",
       "<table border=\"1\" class=\"dataframe\">\n",
       "  <thead>\n",
       "    <tr style=\"text-align: right;\">\n",
       "      <th></th>\n",
       "      <th>total_vaccinations</th>\n",
       "    </tr>\n",
       "    <tr>\n",
       "      <th>vaccines</th>\n",
       "      <th></th>\n",
       "    </tr>\n",
       "  </thead>\n",
       "  <tbody>\n",
       "    <tr>\n",
       "      <th>Sinopharm/Beijing, Sinopharm/Wuhan, Sinovac</th>\n",
       "      <td>366910000.0</td>\n",
       "    </tr>\n",
       "    <tr>\n",
       "      <th>Johnson&amp;Johnson, Moderna, Pfizer/BioNTech</th>\n",
       "      <td>266596486.0</td>\n",
       "    </tr>\n",
       "    <tr>\n",
       "      <th>Covaxin, Oxford/AstraZeneca</th>\n",
       "      <td>178361846.0</td>\n",
       "    </tr>\n",
       "    <tr>\n",
       "      <th>Moderna, Oxford/AstraZeneca, Pfizer/BioNTech</th>\n",
       "      <td>54797640.0</td>\n",
       "    </tr>\n",
       "    <tr>\n",
       "      <th>Oxford/AstraZeneca, Pfizer/BioNTech, Sinovac</th>\n",
       "      <td>50308106.0</td>\n",
       "    </tr>\n",
       "    <tr>\n",
       "      <th>Johnson&amp;Johnson, Moderna, Oxford/AstraZeneca, Pfizer/BioNTech</th>\n",
       "      <td>38646171.0</td>\n",
       "    </tr>\n",
       "    <tr>\n",
       "      <th>Pfizer/BioNTech, Sinovac</th>\n",
       "      <td>25402277.0</td>\n",
       "    </tr>\n",
       "    <tr>\n",
       "      <th>EpiVacCorona, Sputnik V</th>\n",
       "      <td>22782931.0</td>\n",
       "    </tr>\n",
       "    <tr>\n",
       "      <th>Oxford/AstraZeneca, Sinovac</th>\n",
       "      <td>22617205.0</td>\n",
       "    </tr>\n",
       "    <tr>\n",
       "      <th>CanSino, Oxford/AstraZeneca, Pfizer/BioNTech, Sinovac, Sputnik V</th>\n",
       "      <td>21986456.0</td>\n",
       "    </tr>\n",
       "    <tr>\n",
       "      <th>Oxford/AstraZeneca, Pfizer/BioNTech, Sinopharm/Beijing, Sinopharm/Wuhan, Sputnik V</th>\n",
       "      <td>11422565.0</td>\n",
       "    </tr>\n",
       "    <tr>\n",
       "      <th>Oxford/AstraZeneca, Pfizer/BioNTech</th>\n",
       "      <td>11195164.0</td>\n",
       "    </tr>\n",
       "    <tr>\n",
       "      <th>Moderna, Pfizer/BioNTech</th>\n",
       "      <td>10525163.0</td>\n",
       "    </tr>\n",
       "    <tr>\n",
       "      <th>Oxford/AstraZeneca, Sinopharm/Beijing</th>\n",
       "      <td>10436046.0</td>\n",
       "    </tr>\n",
       "    <tr>\n",
       "      <th>Oxford/AstraZeneca, Sinopharm/Beijing, Sputnik V</th>\n",
       "      <td>9541511.0</td>\n",
       "    </tr>\n",
       "    <tr>\n",
       "      <th>Oxford/AstraZeneca</th>\n",
       "      <td>9316086.0</td>\n",
       "    </tr>\n",
       "    <tr>\n",
       "      <th>Moderna, Oxford/AstraZeneca, Pfizer/BioNTech, Sinopharm/Beijing, Sputnik V</th>\n",
       "      <td>7110455.0</td>\n",
       "    </tr>\n",
       "    <tr>\n",
       "      <th>Pfizer/BioNTech</th>\n",
       "      <td>5593436.0</td>\n",
       "    </tr>\n",
       "    <tr>\n",
       "      <th>Oxford/AstraZeneca, Pfizer/BioNTech, Sinopharm/Beijing, Sputnik V</th>\n",
       "      <td>3915922.0</td>\n",
       "    </tr>\n",
       "    <tr>\n",
       "      <th>CanSino, Sinopharm/Beijing, Sinovac, Sputnik V</th>\n",
       "      <td>3836291.0</td>\n",
       "    </tr>\n",
       "    <tr>\n",
       "      <th>Oxford/AstraZeneca, Sinopharm/Beijing, Sinovac</th>\n",
       "      <td>3132686.0</td>\n",
       "    </tr>\n",
       "    <tr>\n",
       "      <th>Oxford/AstraZeneca, Sinovac, Sputnik V</th>\n",
       "      <td>2542066.0</td>\n",
       "    </tr>\n",
       "    <tr>\n",
       "      <th>Sputnik V</th>\n",
       "      <td>2455655.0</td>\n",
       "    </tr>\n",
       "    <tr>\n",
       "      <th>Oxford/AstraZeneca, Pfizer/BioNTech, Sinopharm/Beijing</th>\n",
       "      <td>2261096.0</td>\n",
       "    </tr>\n",
       "    <tr>\n",
       "      <th>Covaxin, Oxford/AstraZeneca, Sinopharm/Beijing, Sputnik V</th>\n",
       "      <td>1767570.0</td>\n",
       "    </tr>\n",
       "    <tr>\n",
       "      <th>Oxford/AstraZeneca, Sinopharm/Beijing, Sinovac, Sputnik V</th>\n",
       "      <td>1371976.0</td>\n",
       "    </tr>\n",
       "    <tr>\n",
       "      <th>Pfizer/BioNTech, Sinopharm/Beijing</th>\n",
       "      <td>1091048.0</td>\n",
       "    </tr>\n",
       "    <tr>\n",
       "      <th>Oxford/AstraZeneca, Sputnik V</th>\n",
       "      <td>930460.0</td>\n",
       "    </tr>\n",
       "    <tr>\n",
       "      <th>Sinopharm/Beijing</th>\n",
       "      <td>730365.0</td>\n",
       "    </tr>\n",
       "    <tr>\n",
       "      <th>Oxford/AstraZeneca, Pfizer/BioNTech, Sinovac, Sputnik V</th>\n",
       "      <td>632676.0</td>\n",
       "    </tr>\n",
       "    <tr>\n",
       "      <th>Sinopharm/Beijing, Sputnik V</th>\n",
       "      <td>563466.0</td>\n",
       "    </tr>\n",
       "    <tr>\n",
       "      <th>Pfizer/BioNTech, Sinovac, Sputnik V</th>\n",
       "      <td>537380.0</td>\n",
       "    </tr>\n",
       "    <tr>\n",
       "      <th>Johnson&amp;Johnson</th>\n",
       "      <td>455169.0</td>\n",
       "    </tr>\n",
       "    <tr>\n",
       "      <th>Johnson&amp;Johnson, Oxford/AstraZeneca, Pfizer/BioNTech</th>\n",
       "      <td>400004.0</td>\n",
       "    </tr>\n",
       "    <tr>\n",
       "      <th>Moderna, Oxford/AstraZeneca</th>\n",
       "      <td>245772.0</td>\n",
       "    </tr>\n",
       "    <tr>\n",
       "      <th>Covaxin, Oxford/AstraZeneca, Sinopharm/Beijing</th>\n",
       "      <td>220646.0</td>\n",
       "    </tr>\n",
       "    <tr>\n",
       "      <th>Johnson&amp;Johnson, Moderna, Oxford/AstraZeneca, Pfizer/BioNTech, Sputnik V</th>\n",
       "      <td>106559.0</td>\n",
       "    </tr>\n",
       "    <tr>\n",
       "      <th>Abdala</th>\n",
       "      <td>70000.0</td>\n",
       "    </tr>\n",
       "    <tr>\n",
       "      <th>EpiVacCorona, Oxford/AstraZeneca, Sinopharm/Beijing, Sputnik V</th>\n",
       "      <td>41993.0</td>\n",
       "    </tr>\n",
       "    <tr>\n",
       "      <th>Moderna, Oxford/AstraZeneca, Sinopharm/Beijing, Sputnik V</th>\n",
       "      <td>38151.0</td>\n",
       "    </tr>\n",
       "    <tr>\n",
       "      <th>Pfizer/BioNTech, Sputnik V</th>\n",
       "      <td>36735.0</td>\n",
       "    </tr>\n",
       "  </tbody>\n",
       "</table>\n",
       "</div>"
      ],
      "text/plain": [
       "                                                    total_vaccinations\n",
       "vaccines                                                              \n",
       "Sinopharm/Beijing, Sinopharm/Wuhan, Sinovac                366910000.0\n",
       "Johnson&Johnson, Moderna, Pfizer/BioNTech                  266596486.0\n",
       "Covaxin, Oxford/AstraZeneca                                178361846.0\n",
       "Moderna, Oxford/AstraZeneca, Pfizer/BioNTech                54797640.0\n",
       "Oxford/AstraZeneca, Pfizer/BioNTech, Sinovac                50308106.0\n",
       "Johnson&Johnson, Moderna, Oxford/AstraZeneca, P...          38646171.0\n",
       "Pfizer/BioNTech, Sinovac                                    25402277.0\n",
       "EpiVacCorona, Sputnik V                                     22782931.0\n",
       "Oxford/AstraZeneca, Sinovac                                 22617205.0\n",
       "CanSino, Oxford/AstraZeneca, Pfizer/BioNTech, S...          21986456.0\n",
       "Oxford/AstraZeneca, Pfizer/BioNTech, Sinopharm/...          11422565.0\n",
       "Oxford/AstraZeneca, Pfizer/BioNTech                         11195164.0\n",
       "Moderna, Pfizer/BioNTech                                    10525163.0\n",
       "Oxford/AstraZeneca, Sinopharm/Beijing                       10436046.0\n",
       "Oxford/AstraZeneca, Sinopharm/Beijing, Sputnik V             9541511.0\n",
       "Oxford/AstraZeneca                                           9316086.0\n",
       "Moderna, Oxford/AstraZeneca, Pfizer/BioNTech, S...           7110455.0\n",
       "Pfizer/BioNTech                                              5593436.0\n",
       "Oxford/AstraZeneca, Pfizer/BioNTech, Sinopharm/...           3915922.0\n",
       "CanSino, Sinopharm/Beijing, Sinovac, Sputnik V               3836291.0\n",
       "Oxford/AstraZeneca, Sinopharm/Beijing, Sinovac               3132686.0\n",
       "Oxford/AstraZeneca, Sinovac, Sputnik V                       2542066.0\n",
       "Sputnik V                                                    2455655.0\n",
       "Oxford/AstraZeneca, Pfizer/BioNTech, Sinopharm/...           2261096.0\n",
       "Covaxin, Oxford/AstraZeneca, Sinopharm/Beijing,...           1767570.0\n",
       "Oxford/AstraZeneca, Sinopharm/Beijing, Sinovac,...           1371976.0\n",
       "Pfizer/BioNTech, Sinopharm/Beijing                           1091048.0\n",
       "Oxford/AstraZeneca, Sputnik V                                 930460.0\n",
       "Sinopharm/Beijing                                             730365.0\n",
       "Oxford/AstraZeneca, Pfizer/BioNTech, Sinovac, S...            632676.0\n",
       "Sinopharm/Beijing, Sputnik V                                  563466.0\n",
       "Pfizer/BioNTech, Sinovac, Sputnik V                           537380.0\n",
       "Johnson&Johnson                                               455169.0\n",
       "Johnson&Johnson, Oxford/AstraZeneca, Pfizer/Bio...            400004.0\n",
       "Moderna, Oxford/AstraZeneca                                   245772.0\n",
       "Covaxin, Oxford/AstraZeneca, Sinopharm/Beijing                220646.0\n",
       "Johnson&Johnson, Moderna, Oxford/AstraZeneca, P...            106559.0\n",
       "Abdala                                                         70000.0\n",
       "EpiVacCorona, Oxford/AstraZeneca, Sinopharm/Bei...             41993.0\n",
       "Moderna, Oxford/AstraZeneca, Sinopharm/Beijing,...             38151.0\n",
       "Pfizer/BioNTech, Sputnik V                                     36735.0"
      ]
     },
     "execution_count": 115,
     "metadata": {},
     "output_type": "execute_result"
    }
   ],
   "source": [
    "counts_vacc = tot_vacc.sort_values('total_vaccinations',ascending=False)\n",
    "counts_vacc"
   ]
  },
  {
   "cell_type": "markdown",
   "metadata": {},
   "source": [
    "From the observation above, People had taken `Sinopharm` Vaccine the most across the world, when compared to other vaccines present"
   ]
  },
  {
   "cell_type": "markdown",
   "metadata": {},
   "source": [
    "### Q2:What are the Countries who have Sinopharm vaccines?"
   ]
  },
  {
   "cell_type": "code",
   "execution_count": 107,
   "metadata": {},
   "outputs": [],
   "source": [
    "vacc_country = dataset_df.groupby('country')[['vaccines']].max()\n"
   ]
  },
  {
   "cell_type": "code",
   "execution_count": 27,
   "metadata": {
    "scrolled": true
   },
   "outputs": [
    {
     "data": {
      "text/html": [
       "<div>\n",
       "<style scoped>\n",
       "    .dataframe tbody tr th:only-of-type {\n",
       "        vertical-align: middle;\n",
       "    }\n",
       "\n",
       "    .dataframe tbody tr th {\n",
       "        vertical-align: top;\n",
       "    }\n",
       "\n",
       "    .dataframe thead th {\n",
       "        text-align: right;\n",
       "    }\n",
       "</style>\n",
       "<table border=\"1\" class=\"dataframe\">\n",
       "  <thead>\n",
       "    <tr style=\"text-align: right;\">\n",
       "      <th></th>\n",
       "      <th>vaccines</th>\n",
       "    </tr>\n",
       "    <tr>\n",
       "      <th>country</th>\n",
       "      <th></th>\n",
       "    </tr>\n",
       "  </thead>\n",
       "  <tbody>\n",
       "    <tr>\n",
       "      <th>Cameroon</th>\n",
       "      <td>Sinopharm/Beijing</td>\n",
       "    </tr>\n",
       "    <tr>\n",
       "      <th>Equatorial Guinea</th>\n",
       "      <td>Sinopharm/Beijing</td>\n",
       "    </tr>\n",
       "    <tr>\n",
       "      <th>Gabon</th>\n",
       "      <td>Sinopharm/Beijing</td>\n",
       "    </tr>\n",
       "    <tr>\n",
       "      <th>Mauritania</th>\n",
       "      <td>Sinopharm/Beijing</td>\n",
       "    </tr>\n",
       "    <tr>\n",
       "      <th>Senegal</th>\n",
       "      <td>Sinopharm/Beijing</td>\n",
       "    </tr>\n",
       "    <tr>\n",
       "      <th>Zimbabwe</th>\n",
       "      <td>Sinopharm/Beijing</td>\n",
       "    </tr>\n",
       "  </tbody>\n",
       "</table>\n",
       "</div>"
      ],
      "text/plain": [
       "                            vaccines\n",
       "country                             \n",
       "Cameroon           Sinopharm/Beijing\n",
       "Equatorial Guinea  Sinopharm/Beijing\n",
       "Gabon              Sinopharm/Beijing\n",
       "Mauritania         Sinopharm/Beijing\n",
       "Senegal            Sinopharm/Beijing\n",
       "Zimbabwe           Sinopharm/Beijing"
      ]
     },
     "execution_count": 27,
     "metadata": {},
     "output_type": "execute_result"
    }
   ],
   "source": [
    "vacc_country[vacc_country.vaccines=='Sinopharm/Beijing']"
   ]
  },
  {
   "cell_type": "markdown",
   "metadata": {},
   "source": [
    "These are six countries with Sinopharm/Beijing vaccines"
   ]
  },
  {
   "cell_type": "markdown",
   "metadata": {},
   "source": [
    "### Q3: What are the Top 20 Countries with best daily average vacinations?"
   ]
  },
  {
   "cell_type": "code",
   "execution_count": 143,
   "metadata": {},
   "outputs": [],
   "source": [
    "a= dataset_df.groupby(\"country\").daily_vaccinations.mean().sort_values(ascending= False).head(20)"
   ]
  },
  {
   "cell_type": "code",
   "execution_count": 148,
   "metadata": {},
   "outputs": [
    {
     "name": "stderr",
     "output_type": "stream",
     "text": [
      "C:\\Users\\Kiran\\anaconda3\\lib\\site-packages\\seaborn\\_decorators.py:36: FutureWarning: Pass the following variables as keyword args: x, y. From version 0.12, the only valid positional argument will be `data`, and passing other arguments without an explicit keyword will result in an error or misinterpretation.\n",
      "  warnings.warn(\n"
     ]
    },
    {
     "data": {
      "image/png": "[encoded data removed]",
      "text/plain": [
       "<Figure size 936x864 with 1 Axes>"
      ]
     },
     "metadata": {
      "needs_background": "light"
     },
     "output_type": "display_data"
    }
   ],
   "source": [
    "plt.figure(figsize= (13,12));\n",
    "sns.barplot(a.values,a.index);\n",
    "plt.title(\"Average Daily Vaccinations Count\");\n",
    "plt.xlabel(\"(Averages)\");\n",
    "plt.ylabel(\"Top 20 Countries\");"
   ]
  },
  {
   "cell_type": "markdown",
   "metadata": {},
   "source": [
    "### Q4: What are the top Countries with fully vaccinated people?"
   ]
  },
  {
   "cell_type": "code",
   "execution_count": 160,
   "metadata": {},
   "outputs": [],
   "source": [
    "top_fully_vacc = dataset_df.groupby(\"country\").people_fully_vaccinated.max().sort_values(ascending= False).head(20)"
   ]
  },
  {
   "cell_type": "code",
   "execution_count": 161,
   "metadata": {},
   "outputs": [
    {
     "name": "stderr",
     "output_type": "stream",
     "text": [
      "C:\\Users\\Kiran\\anaconda3\\lib\\site-packages\\seaborn\\_decorators.py:36: FutureWarning: Pass the following variables as keyword args: x, y. From version 0.12, the only valid positional argument will be `data`, and passing other arguments without an explicit keyword will result in an error or misinterpretation.\n",
      "  warnings.warn(\n"
     ]
    },
    {
     "data": {
      "image/png": "[encoded data removed]",
      "text/plain": [
       "<Figure size 936x720 with 1 Axes>"
      ]
     },
     "metadata": {
      "needs_background": "light"
     },
     "output_type": "display_data"
    }
   ],
   "source": [
    "plt.figure(figsize=(13,10))\n",
    "sns.barplot(top_fully_vacc.values,top_fully_vacc.index);\n",
    "plt.title('Top 20 Fully Vaccinated Countries');\n",
    "plt.xlabel('Fully Vacinated Counts');\n",
    "plt.ylabel('Country');"
   ]
  },
  {
   "cell_type": "markdown",
   "metadata": {},
   "source": [
    "### Q5: Top countries those got vaccinated the most?\n"
   ]
  },
  {
   "cell_type": "code",
   "execution_count": 103,
   "metadata": {},
   "outputs": [
    {
     "data": {
      "text/plain": [
       "country\n",
       "China             366910000.0\n",
       "United States     266596486.0\n",
       "India             178361846.0\n",
       "United Kingdom     54797640.0\n",
       "Brazil             50308106.0\n",
       "Name: total_vaccinations, dtype: float64"
      ]
     },
     "execution_count": 103,
     "metadata": {},
     "output_type": "execute_result"
    }
   ],
   "source": [
    "top_vacci = dataset_df.groupby(\"country\")['total_vaccinations'].max().sort_values(ascending= False).head(5)\n",
    "top_vacci "
   ]
  },
  {
   "cell_type": "code",
   "execution_count": 110,
   "metadata": {},
   "outputs": [
    {
     "name": "stderr",
     "output_type": "stream",
     "text": [
      "C:\\Users\\Kiran\\anaconda3\\lib\\site-packages\\seaborn\\_decorators.py:36: FutureWarning: Pass the following variables as keyword args: x, y. From version 0.12, the only valid positional argument will be `data`, and passing other arguments without an explicit keyword will result in an error or misinterpretation.\n",
      "  warnings.warn(\n"
     ]
    },
    {
     "data": {
      "image/png": "[encoded data removed]",
      "text/plain": [
       "<Figure size 720x432 with 1 Axes>"
      ]
     },
     "metadata": {
      "needs_background": "light"
     },
     "output_type": "display_data"
    }
   ],
   "source": [
    "plt.figure(figsize=(10,6))\n",
    "sns.barplot(top_vacci.values,top_vacci.index);\n",
    "plt.title('Top Vaccinated Countries');\n",
    "plt.xlabel('Total Vacinated Counts');\n",
    "plt.ylabel('Country');"
   ]
  },
  {
   "cell_type": "markdown",
   "metadata": {},
   "source": [
    "Let us save and upload our work to Jovian before continuing."
   ]
  },
  {
   "cell_type": "code",
   "execution_count": 164,
   "metadata": {},
   "outputs": [],
   "source": [
    "import jovian"
   ]
  },
  {
   "cell_type": "code",
   "execution_count": 165,
   "metadata": {},
   "outputs": [
    {
     "data": {
      "application/javascript": [
       "window.require && require([\"base/js/namespace\"],function(Jupyter){Jupyter.notebook.save_checkpoint()})"
      ],
      "text/plain": [
       "<IPython.core.display.Javascript object>"
      ]
     },
     "metadata": {},
     "output_type": "display_data"
    },
    {
     "name": "stdout",
     "output_type": "stream",
     "text": [
      "[jovian] Attempting to save notebook..\n",
      "[jovian] Updating notebook \"kiranprasanth01/covid-19-world-vacination-progress-analysis\" on https://jovian.ai/\n",
      "[jovian] Uploading notebook..\n",
      "[jovian] Capturing environment..\n",
      "[jovian] Committed successfully! https://jovian.ai/kiranprasanth01/covid-19-world-vacination-progress-analysis\n"
     ]
    },
    {
     "data": {
      "text/plain": [
       "'https://jovian.ai/kiranprasanth01/covid-19-world-vacination-progress-analysis'"
      ]
     },
     "execution_count": 165,
     "metadata": {},
     "output_type": "execute_result"
    }
   ],
   "source": [
    "jovian.commit()"
   ]
  },
  {
   "attachments": {},
   "cell_type": "markdown",
   "metadata": {},
   "source": [
    "\n",
    "<h2><center> Inferences and Conclusion</h2></center>\n",
    "\n",
    "### We reached the end! \n",
    "We can conclude from the above questions with various points;\n",
    "> 1. Our world has total `41 various vaccines` that are consumed across different countries around the world\n",
    "> 2. The average count of number of vaccinations taken by people around the world is `39,99,999` till date\n",
    "> 3. The most consumed vaccine across the world is `\"Sinopharm\"` vaccine \n",
    "> 4. Out of 211 countries that are getting vaccinations, only six countries contribute to taking Sinopharm vaccine, the most consumed vaccine\n",
    "> 5. The  top countries providing daily best average vaccinations are:\n",
    "    - China\n",
    "    - USA\n",
    "    - India\n",
    "    - Brazil\n",
    "    - United Kingdom\n",
    "    - England\n",
    "    - Germany\n",
    "> 6. Top vaccinated countries are:\n",
    "    - China\n",
    "    - USA\n",
    "    - India\n",
    "    - United Kingdom\n",
    "    - Brazil\n",
    "> 7. China is best in daily average vaccines provider and has also topped the list in most vaccinated countries, but surprisingly they do not have any data for those who have got fully vaccinated i.e two dosage of vaccine, in China."
   ]
  },
  {
   "cell_type": "code",
   "execution_count": 166,
   "metadata": {},
   "outputs": [],
   "source": [
    "import jovian"
   ]
  },
  {
   "cell_type": "code",
   "execution_count": 167,
   "metadata": {},
   "outputs": [
    {
     "data": {
      "application/javascript": [
       "window.require && require([\"base/js/namespace\"],function(Jupyter){Jupyter.notebook.save_checkpoint()})"
      ],
      "text/plain": [
       "<IPython.core.display.Javascript object>"
      ]
     },
     "metadata": {},
     "output_type": "display_data"
    },
    {
     "name": "stdout",
     "output_type": "stream",
     "text": [
      "[jovian] Attempting to save notebook..\n",
      "[jovian] Updating notebook \"kiranprasanth01/covid-19-world-vacination-progress-analysis\" on https://jovian.ai/\n",
      "[jovian] Uploading notebook..\n",
      "[jovian] Capturing environment..\n",
      "[jovian] Committed successfully! https://jovian.ai/kiranprasanth01/covid-19-world-vacination-progress-analysis\n"
     ]
    },
    {
     "data": {
      "text/plain": [
       "'https://jovian.ai/kiranprasanth01/covid-19-world-vacination-progress-analysis'"
      ]
     },
     "execution_count": 167,
     "metadata": {},
     "output_type": "execute_result"
    }
   ],
   "source": [
    "jovian.commit()"
   ]
  },
  {
   "cell_type": "markdown",
   "metadata": {},
   "source": [
    "<br>\n",
    "<h2><center> References and Future Work</h2></center>\n",
    "\n",
    "### Ideas for Future Projects using this dataset<br>\n",
    "Some of the other intersting facts people can work on this dataset includes;\n",
    "1. analysisng the trend of number of vaccinations to occurr in next 7 days or a month\n",
    "2. Can perfrom Regression analysis to predict a particular countries vaccination progress <br>\n",
    "\n",
    "Try exploring the dataset: https://www.kaggle.com/gpreda/covid-world-vaccination-progress\n"
   ]
  },
  {
   "attachments": {
    "23-237380_redlineseparator-line-separator.png": {
     "image/png": "[encoded data removed]"
    }
   },
   "cell_type": "markdown",
   "metadata": {},
   "source": [
    "![23-237380_redlineseparator-line-separator.png](attachment:23-237380_redlineseparator-line-separator.png)"
   ]
  },
  {
   "cell_type": "code",
   "execution_count": 168,
   "metadata": {},
   "outputs": [],
   "source": [
    "import jovian"
   ]
  },
  {
   "cell_type": "code",
   "execution_count": 169,
   "metadata": {
    "scrolled": true
   },
   "outputs": [
    {
     "data": {
      "application/javascript": [
       "window.require && require([\"base/js/namespace\"],function(Jupyter){Jupyter.notebook.save_checkpoint()})"
      ],
      "text/plain": [
       "<IPython.core.display.Javascript object>"
      ]
     },
     "metadata": {},
     "output_type": "display_data"
    },
    {
     "name": "stdout",
     "output_type": "stream",
     "text": [
      "[jovian] Attempting to save notebook..\n",
      "[jovian] Updating notebook \"kiranprasanth01/covid-19-world-vacination-progress-analysis\" on https://jovian.ai/\n",
      "[jovian] Uploading notebook..\n",
      "[jovian] Capturing environment..\n",
      "[jovian] Committed successfully! https://jovian.ai/kiranprasanth01/covid-19-world-vacination-progress-analysis\n"
     ]
    },
    {
     "data": {
      "text/plain": [
       "'https://jovian.ai/kiranprasanth01/covid-19-world-vacination-progress-analysis'"
      ]
     },
     "execution_count": 169,
     "metadata": {},
     "output_type": "execute_result"
    }
   ],
   "source": [
    "jovian.commit()"
   ]
  },
  {
   "cell_type": "code",
   "execution_count": null,
   "metadata": {},
   "outputs": [
    {
     "data": {
      "application/javascript": [
       "window.require && require([\"base/js/namespace\"],function(Jupyter){Jupyter.notebook.save_checkpoint()})"
      ],
      "text/plain": [
       "<IPython.core.display.Javascript object>"
      ]
     },
     "metadata": {},
     "output_type": "display_data"
    },
    {
     "name": "stdout",
     "output_type": "stream",
     "text": [
      "[jovian] Attempting to save notebook..\r\n"
     ]
    }
   ],
   "source": [
    "jovian.submit(assignment=\"zero-to-pandas-project\")"
   ]
  }
 ],
 "metadata": {
  "language_info": {
   "codemirror_mode": {
    "name": "ipython",
    "version": 3
   },
   "file_extension": ".py",
   "mimetype": "text/x-python",
   "name": "python",
   "nbconvert_exporter": "python",
   "pygments_lexer": "ipython3",
   "version": "3.8.5"
  }
 },
 "nbformat": 4,
 "nbformat_minor": 4
}